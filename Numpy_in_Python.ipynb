{
  "nbformat": 4,
  "nbformat_minor": 0,
  "metadata": {
    "colab": {
      "provenance": []
    },
    "kernelspec": {
      "name": "python3",
      "display_name": "Python 3"
    },
    "language_info": {
      "name": "python"
    }
  },
  "cells": [
    {
      "cell_type": "markdown",
      "source": [
        "**NumPy-Numerical Python**\n",
        "- Advantages of Numpy Arrays:\n",
        "  1. Allows several Mathematical Operations\n",
        "  2. Faster Operations."
      ],
      "metadata": {
        "id": "0SB_S0sttlbv"
      }
    },
    {
      "cell_type": "code",
      "execution_count": 1,
      "metadata": {
        "id": "A6rRv1LUtaI4"
      },
      "outputs": [],
      "source": [
        "import numpy as np"
      ]
    },
    {
      "cell_type": "markdown",
      "source": [
        "List vs Numpy - Time taken"
      ],
      "metadata": {
        "id": "3nw-eRrXt4im"
      }
    },
    {
      "cell_type": "code",
      "source": [
        "from time import process_time"
      ],
      "metadata": {
        "id": "nMt1VeY8thkQ"
      },
      "execution_count": 2,
      "outputs": []
    },
    {
      "cell_type": "markdown",
      "source": [
        "Time taken by a lsit"
      ],
      "metadata": {
        "id": "-9YvwkgduAzu"
      }
    },
    {
      "cell_type": "code",
      "source": [
        "py_li=[i for i in range(10000)]\n",
        "\n",
        "st_ti=process_time()\n",
        "\n",
        "py_li=[i+5 for i in py_li]\n",
        "\n",
        "en_ti=process_time()\n",
        "\n",
        "print(en_ti - st_ti)"
      ],
      "metadata": {
        "colab": {
          "base_uri": "https://localhost:8080/"
        },
        "id": "sMVawLhSthmT",
        "outputId": "ac48859c-6dac-452a-f835-050ff71a74c7"
      },
      "execution_count": 5,
      "outputs": [
        {
          "output_type": "stream",
          "name": "stdout",
          "text": [
            "0.0010141910000003307\n"
          ]
        }
      ]
    },
    {
      "cell_type": "code",
      "source": [
        "np_arr=np.array([i for i in range(10000)])\n",
        "\n",
        "st_ti=process_time()\n",
        "\n",
        "np_arr += 5\n",
        "\n",
        "en_ti=process_time()\n",
        "\n",
        "print(en_ti - st_ti)"
      ],
      "metadata": {
        "colab": {
          "base_uri": "https://localhost:8080/"
        },
        "id": "6icGXqYEthrB",
        "outputId": "c3c3ba7e-c3d5-4766-bbe4-a77bcf4bc9f4"
      },
      "execution_count": 6,
      "outputs": [
        {
          "output_type": "stream",
          "name": "stdout",
          "text": [
            "0.0009288610000002251\n"
          ]
        }
      ]
    },
    {
      "cell_type": "markdown",
      "source": [
        "**Numpy Arrays**"
      ],
      "metadata": {
        "id": "JVgoTz6Au3jO"
      }
    },
    {
      "cell_type": "code",
      "source": [
        "## List\n",
        "list1=[1,2,3,4,5]\n",
        "print(list1)\n",
        "type(list1)"
      ],
      "metadata": {
        "colab": {
          "base_uri": "https://localhost:8080/"
        },
        "id": "2PgLT1aKths8",
        "outputId": "8a03b401-fb11-4035-aa23-33c15cbcc966"
      },
      "execution_count": 7,
      "outputs": [
        {
          "output_type": "stream",
          "name": "stdout",
          "text": [
            "[1, 2, 3, 4, 5]\n"
          ]
        },
        {
          "output_type": "execute_result",
          "data": {
            "text/plain": [
              "list"
            ]
          },
          "metadata": {},
          "execution_count": 7
        }
      ]
    },
    {
      "cell_type": "code",
      "source": [
        "np_array=np.array([1,2,3,4,5])\n",
        "print(np_array)\n",
        "type(np_array)"
      ],
      "metadata": {
        "colab": {
          "base_uri": "https://localhost:8080/"
        },
        "id": "DyzEfPH0thw8",
        "outputId": "0efcc384-6960-4b03-fd5e-88800a73033b"
      },
      "execution_count": 8,
      "outputs": [
        {
          "output_type": "stream",
          "name": "stdout",
          "text": [
            "[1 2 3 4 5]\n"
          ]
        },
        {
          "output_type": "execute_result",
          "data": {
            "text/plain": [
              "numpy.ndarray"
            ]
          },
          "metadata": {},
          "execution_count": 8
        }
      ]
    },
    {
      "cell_type": "code",
      "source": [
        "## Creating one dimensional array\n",
        "a=np.array([1,2,3,4,5])\n",
        "print(a)"
      ],
      "metadata": {
        "colab": {
          "base_uri": "https://localhost:8080/"
        },
        "id": "7sn0DYR6th1a",
        "outputId": "2633f8ac-9171-41c6-a598-f95108ca30d9"
      },
      "execution_count": 10,
      "outputs": [
        {
          "output_type": "stream",
          "name": "stdout",
          "text": [
            "[1 2 3 4 5]\n"
          ]
        }
      ]
    },
    {
      "cell_type": "code",
      "source": [
        "## Creating two dimensional array\n",
        "b=np.array([(1,2,3,4,5),(5,6,7,8)])\n",
        "print(b)"
      ],
      "metadata": {
        "colab": {
          "base_uri": "https://localhost:8080/"
        },
        "id": "OltazEgVth3e",
        "outputId": "b400693f-e673-4428-d6b7-f9e145839d41"
      },
      "execution_count": 11,
      "outputs": [
        {
          "output_type": "stream",
          "name": "stdout",
          "text": [
            "[(1, 2, 3, 4, 5) (5, 6, 7, 8)]\n"
          ]
        },
        {
          "output_type": "stream",
          "name": "stderr",
          "text": [
            "<ipython-input-11-1bd906c282f3>:2: VisibleDeprecationWarning: Creating an ndarray from ragged nested sequences (which is a list-or-tuple of lists-or-tuples-or ndarrays with different lengths or shapes) is deprecated. If you meant to do this, you must specify 'dtype=object' when creating the ndarray.\n",
            "  b=np.array([(1,2,3,4,5),(5,6,7,8)])\n"
          ]
        }
      ]
    },
    {
      "cell_type": "code",
      "source": [
        "b.shape"
      ],
      "metadata": {
        "colab": {
          "base_uri": "https://localhost:8080/"
        },
        "id": "qMJyqsJTth7o",
        "outputId": "9ce8adab-0200-44bb-e962-2a7ed8ac7af5"
      },
      "execution_count": 12,
      "outputs": [
        {
          "output_type": "execute_result",
          "data": {
            "text/plain": [
              "(2,)"
            ]
          },
          "metadata": {},
          "execution_count": 12
        }
      ]
    },
    {
      "cell_type": "markdown",
      "source": [
        "Initial Placeholders in numpy arrays"
      ],
      "metadata": {
        "id": "L7YgQ7r6vwBe"
      }
    },
    {
      "cell_type": "code",
      "source": [
        "## Create a numpy array with zeros\n",
        "x=np.zeros((4,5))\n",
        "print(x)"
      ],
      "metadata": {
        "colab": {
          "base_uri": "https://localhost:8080/"
        },
        "id": "gLvwSrivth9u",
        "outputId": "c98225ab-ff6b-4f7d-bb31-2c2624184a64"
      },
      "execution_count": 14,
      "outputs": [
        {
          "output_type": "stream",
          "name": "stdout",
          "text": [
            "[[0. 0. 0. 0. 0.]\n",
            " [0. 0. 0. 0. 0.]\n",
            " [0. 0. 0. 0. 0.]\n",
            " [0. 0. 0. 0. 0.]]\n"
          ]
        }
      ]
    },
    {
      "cell_type": "code",
      "source": [
        "## Create a numpy array with ones\n",
        "y=np.ones((3,3))\n",
        "print(y)"
      ],
      "metadata": {
        "colab": {
          "base_uri": "https://localhost:8080/"
        },
        "id": "dC7QlWPmtiB5",
        "outputId": "23596093-85dd-49f1-e39a-caba9c9ed734"
      },
      "execution_count": 17,
      "outputs": [
        {
          "output_type": "stream",
          "name": "stdout",
          "text": [
            "[[1. 1. 1.]\n",
            " [1. 1. 1.]\n",
            " [1. 1. 1.]]\n"
          ]
        }
      ]
    },
    {
      "cell_type": "code",
      "source": [
        "## Array of a particular value\n",
        "z=np.full((5,4),3)\n",
        "print(z)"
      ],
      "metadata": {
        "colab": {
          "base_uri": "https://localhost:8080/"
        },
        "id": "uQGB2--uwDFO",
        "outputId": "605a08d6-8380-42ac-a891-4f325e5684be"
      },
      "execution_count": 18,
      "outputs": [
        {
          "output_type": "stream",
          "name": "stdout",
          "text": [
            "[[3 3 3 3]\n",
            " [3 3 3 3]\n",
            " [3 3 3 3]\n",
            " [3 3 3 3]\n",
            " [3 3 3 3]]\n"
          ]
        }
      ]
    },
    {
      "cell_type": "code",
      "source": [
        "## Create an identity matrix\n",
        "a=np.eye(5)\n",
        "print(a)"
      ],
      "metadata": {
        "colab": {
          "base_uri": "https://localhost:8080/"
        },
        "id": "VtLIAWj1wQ76",
        "outputId": "e6b0b8a8-324a-45ba-dfef-6eedc90c55e1"
      },
      "execution_count": 19,
      "outputs": [
        {
          "output_type": "stream",
          "name": "stdout",
          "text": [
            "[[1. 0. 0. 0. 0.]\n",
            " [0. 1. 0. 0. 0.]\n",
            " [0. 0. 1. 0. 0.]\n",
            " [0. 0. 0. 1. 0.]\n",
            " [0. 0. 0. 0. 1.]]\n"
          ]
        }
      ]
    },
    {
      "cell_type": "code",
      "source": [
        "## Create a numpy array with random values\n",
        "n=np.random.random((4,4))\n",
        "print(n)"
      ],
      "metadata": {
        "colab": {
          "base_uri": "https://localhost:8080/"
        },
        "id": "sv_0qzxtwjci",
        "outputId": "7f2522e3-76cb-48b0-dbe4-bb696ac9fee1"
      },
      "execution_count": 21,
      "outputs": [
        {
          "output_type": "stream",
          "name": "stdout",
          "text": [
            "[[0.01193341 0.04440824 0.74546529 0.62579389]\n",
            " [0.94194903 0.91733926 0.18170265 0.68519829]\n",
            " [0.80161746 0.79521715 0.05188735 0.60510058]\n",
            " [0.72567362 0.70527632 0.3340047  0.45027303]]\n"
          ]
        }
      ]
    },
    {
      "cell_type": "code",
      "source": [
        "## Random integer values array with in a specifi range\n",
        "rr=np.random.randint(10,100,(4,4))\n",
        "print(rr)"
      ],
      "metadata": {
        "colab": {
          "base_uri": "https://localhost:8080/"
        },
        "id": "Q34Ai4LXwsLI",
        "outputId": "a6fd33cb-d3e3-42b5-ea17-3a37ea962a0d"
      },
      "execution_count": 23,
      "outputs": [
        {
          "output_type": "stream",
          "name": "stdout",
          "text": [
            "[[23 74 72 82]\n",
            " [37 74 88 45]\n",
            " [69 85 87 99]\n",
            " [14 72 88 93]]\n"
          ]
        }
      ]
    },
    {
      "cell_type": "code",
      "source": [
        "## Array of evenly spaced values --> Specifying the number of values required.\n",
        "n=np.arange(10,100,5)\n",
        "print(n)"
      ],
      "metadata": {
        "colab": {
          "base_uri": "https://localhost:8080/"
        },
        "id": "0EKBwaXBw_DO",
        "outputId": "f647bda3-40ab-4087-8eb7-daacf35aa4f4"
      },
      "execution_count": 28,
      "outputs": [
        {
          "output_type": "stream",
          "name": "stdout",
          "text": [
            "[10 15 20 25 30 35 40 45 50 55 60 65 70 75 80 85 90 95]\n"
          ]
        }
      ]
    },
    {
      "cell_type": "code",
      "source": [
        "n=np.arange(3,22,3)\n",
        "print(n)\n",
        "type(n)"
      ],
      "metadata": {
        "colab": {
          "base_uri": "https://localhost:8080/"
        },
        "id": "E6QEcOrwxQk6",
        "outputId": "9bb57962-38e9-40d8-f750-c9f09f9f9157"
      },
      "execution_count": 32,
      "outputs": [
        {
          "output_type": "stream",
          "name": "stdout",
          "text": [
            "[ 3  6  9 12 15 18 21]\n"
          ]
        },
        {
          "output_type": "execute_result",
          "data": {
            "text/plain": [
              "numpy.ndarray"
            ]
          },
          "metadata": {},
          "execution_count": 32
        }
      ]
    },
    {
      "cell_type": "code",
      "source": [
        "## Convert a list to a numpy array\n",
        "l1=[1,2,3,4,5,6]\n",
        "np_ar=np.asarray(l1)\n",
        "print(np_ar)\n",
        "type(np_ar)"
      ],
      "metadata": {
        "colab": {
          "base_uri": "https://localhost:8080/"
        },
        "id": "rofnTMg_xnNv",
        "outputId": "e193312d-0423-4f95-e167-9b4a315d3a30"
      },
      "execution_count": 33,
      "outputs": [
        {
          "output_type": "stream",
          "name": "stdout",
          "text": [
            "[1 2 3 4 5 6]\n"
          ]
        },
        {
          "output_type": "execute_result",
          "data": {
            "text/plain": [
              "numpy.ndarray"
            ]
          },
          "metadata": {},
          "execution_count": 33
        }
      ]
    },
    {
      "cell_type": "markdown",
      "source": [
        "Analysing a numpy array"
      ],
      "metadata": {
        "id": "Zm_3C5LJyCe8"
      }
    },
    {
      "cell_type": "code",
      "source": [
        "a=np.random.randint(10,100,(5,5))\n",
        "print(a)"
      ],
      "metadata": {
        "colab": {
          "base_uri": "https://localhost:8080/"
        },
        "id": "krnHwJ7KyA5p",
        "outputId": "174ad4e9-998b-4d47-ecfc-39a17c7b7cb8"
      },
      "execution_count": 34,
      "outputs": [
        {
          "output_type": "stream",
          "name": "stdout",
          "text": [
            "[[52 89 91 79 65]\n",
            " [25 27 84 73 85]\n",
            " [58 38 96 32 42]\n",
            " [52 51 66 19 48]\n",
            " [76 24 71 89 52]]\n"
          ]
        }
      ]
    },
    {
      "cell_type": "code",
      "source": [
        "## Array dimension\n",
        "print(a.shape)"
      ],
      "metadata": {
        "colab": {
          "base_uri": "https://localhost:8080/"
        },
        "id": "Z_m3cU0YySXK",
        "outputId": "fdcb83bd-83c3-4189-f2fa-3e7ea1ab82f0"
      },
      "execution_count": 35,
      "outputs": [
        {
          "output_type": "stream",
          "name": "stdout",
          "text": [
            "(5, 5)\n"
          ]
        }
      ]
    },
    {
      "cell_type": "code",
      "source": [
        "## No of dimensions\n",
        "print(a.ndim)"
      ],
      "metadata": {
        "colab": {
          "base_uri": "https://localhost:8080/"
        },
        "id": "Z75AezEByWrU",
        "outputId": "00122c98-ccce-469f-ea4a-7771408169ac"
      },
      "execution_count": 36,
      "outputs": [
        {
          "output_type": "stream",
          "name": "stdout",
          "text": [
            "2\n"
          ]
        }
      ]
    },
    {
      "cell_type": "code",
      "source": [
        "## No of elements in the array\n",
        "a.size"
      ],
      "metadata": {
        "colab": {
          "base_uri": "https://localhost:8080/"
        },
        "id": "w8PeWKWdycJ3",
        "outputId": "c98dec8a-c169-404d-9685-4ea49f413973"
      },
      "execution_count": 37,
      "outputs": [
        {
          "output_type": "execute_result",
          "data": {
            "text/plain": [
              "25"
            ]
          },
          "metadata": {},
          "execution_count": 37
        }
      ]
    },
    {
      "cell_type": "code",
      "source": [
        "## Check the data type of the values in the array\n",
        "a.dtype"
      ],
      "metadata": {
        "colab": {
          "base_uri": "https://localhost:8080/"
        },
        "id": "Y0Cg8q0TynPH",
        "outputId": "5914341d-e5d0-4b04-dc4b-f0cbd3910d6d"
      },
      "execution_count": 38,
      "outputs": [
        {
          "output_type": "execute_result",
          "data": {
            "text/plain": [
              "dtype('int64')"
            ]
          },
          "metadata": {},
          "execution_count": 38
        }
      ]
    },
    {
      "cell_type": "markdown",
      "source": [
        "**Mathematical Operations on a np array**"
      ],
      "metadata": {
        "id": "t8v074Bfyv31"
      }
    },
    {
      "cell_type": "code",
      "source": [
        "l1=[1,2,3,4,5]\n",
        "l2=[6,7,8,9,10]\n",
        "print(l1+l2) ## Concatenate or joins the two list"
      ],
      "metadata": {
        "colab": {
          "base_uri": "https://localhost:8080/"
        },
        "id": "scGrHmDkytN5",
        "outputId": "6839e64d-d9f9-47e5-cfbd-98cc480fbd5c"
      },
      "execution_count": 42,
      "outputs": [
        {
          "output_type": "stream",
          "name": "stdout",
          "text": [
            "[1, 2, 3, 4, 5, 6, 7, 8, 9, 10]\n"
          ]
        }
      ]
    },
    {
      "cell_type": "code",
      "source": [
        "l1.append(l2)"
      ],
      "metadata": {
        "id": "Jab6hWuZy81x"
      },
      "execution_count": 40,
      "outputs": []
    },
    {
      "cell_type": "code",
      "source": [
        "l1"
      ],
      "metadata": {
        "colab": {
          "base_uri": "https://localhost:8080/"
        },
        "id": "frSv2Ji5zALX",
        "outputId": "8479972f-be6e-4b50-ae7a-0e017ce86296"
      },
      "execution_count": 41,
      "outputs": [
        {
          "output_type": "execute_result",
          "data": {
            "text/plain": [
              "[1, 2, 3, 4, 5, [6, 7, 8, 9, 10]]"
            ]
          },
          "metadata": {},
          "execution_count": 41
        }
      ]
    },
    {
      "cell_type": "code",
      "source": [
        "l1.extend(l2)\n",
        "l1"
      ],
      "metadata": {
        "colab": {
          "base_uri": "https://localhost:8080/"
        },
        "id": "aCCpIX6pzB2X",
        "outputId": "3be3be27-c21f-4124-ec8e-eeee20fa1e7f"
      },
      "execution_count": 43,
      "outputs": [
        {
          "output_type": "execute_result",
          "data": {
            "text/plain": [
              "[1, 2, 3, 4, 5, 6, 7, 8, 9, 10]"
            ]
          },
          "metadata": {},
          "execution_count": 43
        }
      ]
    },
    {
      "cell_type": "code",
      "source": [
        "a=np.random.randint(1,10,(4,4))\n",
        "b=np.random.randint(10,20,(4,4))\n",
        "print(a)\n",
        "print(b)"
      ],
      "metadata": {
        "colab": {
          "base_uri": "https://localhost:8080/"
        },
        "id": "IK1aFpqpzJLz",
        "outputId": "9546e7ea-1c4d-4a57-d682-cfc7be70b82c"
      },
      "execution_count": 45,
      "outputs": [
        {
          "output_type": "stream",
          "name": "stdout",
          "text": [
            "[[8 8 3 7]\n",
            " [1 2 5 7]\n",
            " [1 1 1 5]\n",
            " [8 6 8 7]]\n",
            "[[14 16 17 11]\n",
            " [18 18 14 16]\n",
            " [13 12 11 13]\n",
            " [16 16 14 19]]\n"
          ]
        }
      ]
    },
    {
      "cell_type": "code",
      "source": [
        "print(a+b)\n",
        "print(a-b)\n",
        "print(a*b)\n",
        "print(a/b)\n",
        "print(a%b)"
      ],
      "metadata": {
        "colab": {
          "base_uri": "https://localhost:8080/"
        },
        "id": "ezvUd5GezlvZ",
        "outputId": "ec4ed1aa-abcf-49db-db5e-50bbffe74ab5"
      },
      "execution_count": 46,
      "outputs": [
        {
          "output_type": "stream",
          "name": "stdout",
          "text": [
            "[[22 24 20 18]\n",
            " [19 20 19 23]\n",
            " [14 13 12 18]\n",
            " [24 22 22 26]]\n",
            "[[ -6  -8 -14  -4]\n",
            " [-17 -16  -9  -9]\n",
            " [-12 -11 -10  -8]\n",
            " [ -8 -10  -6 -12]]\n",
            "[[112 128  51  77]\n",
            " [ 18  36  70 112]\n",
            " [ 13  12  11  65]\n",
            " [128  96 112 133]]\n",
            "[[0.57142857 0.5        0.17647059 0.63636364]\n",
            " [0.05555556 0.11111111 0.35714286 0.4375    ]\n",
            " [0.07692308 0.08333333 0.09090909 0.38461538]\n",
            " [0.5        0.375      0.57142857 0.36842105]]\n",
            "[[8 8 3 7]\n",
            " [1 2 5 7]\n",
            " [1 1 1 5]\n",
            " [8 6 8 7]]\n"
          ]
        }
      ]
    },
    {
      "cell_type": "code",
      "source": [
        "print(np.add(a,b))\n",
        "print(np.subtract(a,b))\n",
        "print(np.multiply(a,b))\n",
        "print(np.divide(a,b))"
      ],
      "metadata": {
        "colab": {
          "base_uri": "https://localhost:8080/"
        },
        "id": "7-mm-RCQzzUj",
        "outputId": "684c10f7-1db7-4045-a42c-6037c91f0d7e"
      },
      "execution_count": 50,
      "outputs": [
        {
          "output_type": "stream",
          "name": "stdout",
          "text": [
            "[[22 24 20 18]\n",
            " [19 20 19 23]\n",
            " [14 13 12 18]\n",
            " [24 22 22 26]]\n",
            "[[ -6  -8 -14  -4]\n",
            " [-17 -16  -9  -9]\n",
            " [-12 -11 -10  -8]\n",
            " [ -8 -10  -6 -12]]\n",
            "[[112 128  51  77]\n",
            " [ 18  36  70 112]\n",
            " [ 13  12  11  65]\n",
            " [128  96 112 133]]\n",
            "[[0.57142857 0.5        0.17647059 0.63636364]\n",
            " [0.05555556 0.11111111 0.35714286 0.4375    ]\n",
            " [0.07692308 0.08333333 0.09090909 0.38461538]\n",
            " [0.5        0.375      0.57142857 0.36842105]]\n"
          ]
        }
      ]
    },
    {
      "cell_type": "markdown",
      "source": [
        "**Array Manipulation**"
      ],
      "metadata": {
        "id": "XjyJ8PZK6t74"
      }
    },
    {
      "cell_type": "code",
      "source": [
        "ar=np.random.randint(0,10,(3,3))\n",
        "print(ar)"
      ],
      "metadata": {
        "colab": {
          "base_uri": "https://localhost:8080/"
        },
        "id": "1DsD6emC6jzo",
        "outputId": "2b603663-ce5c-411e-a5cf-73da7438aced"
      },
      "execution_count": 56,
      "outputs": [
        {
          "output_type": "stream",
          "name": "stdout",
          "text": [
            "[[7 5 4]\n",
            " [3 1 1]\n",
            " [8 4 8]]\n"
          ]
        }
      ]
    },
    {
      "cell_type": "code",
      "source": [
        "## Transpose\n",
        "trans=np.transpose(ar)\n",
        "print(trans)\n",
        "print(trans.shape)"
      ],
      "metadata": {
        "colab": {
          "base_uri": "https://localhost:8080/"
        },
        "id": "LjYC3sAa620Z",
        "outputId": "12741a81-01c3-4728-91ef-69e1f1c35520"
      },
      "execution_count": 57,
      "outputs": [
        {
          "output_type": "stream",
          "name": "stdout",
          "text": [
            "[[7 3 8]\n",
            " [5 1 4]\n",
            " [4 1 8]]\n",
            "(3, 3)\n"
          ]
        }
      ]
    },
    {
      "cell_type": "code",
      "source": [
        "print(ar)\n",
        "print(ar.shape)"
      ],
      "metadata": {
        "colab": {
          "base_uri": "https://localhost:8080/"
        },
        "id": "DevR-pWp6_q2",
        "outputId": "9d8072e3-a9f4-45a2-e4b1-f4b2db7813fd"
      },
      "execution_count": 58,
      "outputs": [
        {
          "output_type": "stream",
          "name": "stdout",
          "text": [
            "[[7 5 4]\n",
            " [3 1 1]\n",
            " [8 4 8]]\n",
            "(3, 3)\n"
          ]
        }
      ]
    },
    {
      "cell_type": "code",
      "source": [
        "ar1=ar.T\n",
        "print(ar1)\n",
        "print(ar1.shape)"
      ],
      "metadata": {
        "colab": {
          "base_uri": "https://localhost:8080/"
        },
        "id": "t4mur1xB7Z1Z",
        "outputId": "cff3b3e8-4233-47d7-875b-4a02aebfc73d"
      },
      "execution_count": 59,
      "outputs": [
        {
          "output_type": "stream",
          "name": "stdout",
          "text": [
            "[[7 3 8]\n",
            " [5 1 4]\n",
            " [4 1 8]]\n",
            "(3, 3)\n"
          ]
        }
      ]
    },
    {
      "cell_type": "code",
      "source": [
        "## Reshaping an array\n",
        "a=np.random.randint(1,10,(3,2))\n",
        "print(a)\n",
        "print(a.shape)"
      ],
      "metadata": {
        "colab": {
          "base_uri": "https://localhost:8080/"
        },
        "id": "Zup0Ha7Y7hE3",
        "outputId": "4abb3bf4-6110-481b-d60f-a068d81cb0cc"
      },
      "execution_count": 60,
      "outputs": [
        {
          "output_type": "stream",
          "name": "stdout",
          "text": [
            "[[4 8]\n",
            " [2 1]\n",
            " [9 9]]\n",
            "(3, 2)\n"
          ]
        }
      ]
    },
    {
      "cell_type": "code",
      "source": [
        "b=a.reshape(2,3)\n",
        "print(b)\n",
        "print(b.shape)"
      ],
      "metadata": {
        "colab": {
          "base_uri": "https://localhost:8080/"
        },
        "id": "HIlrnzSc7vT1",
        "outputId": "a1c2c186-f2a0-4f80-abc8-ed0ba077fd19"
      },
      "execution_count": 62,
      "outputs": [
        {
          "output_type": "stream",
          "name": "stdout",
          "text": [
            "[[4 8 2]\n",
            " [1 9 9]]\n",
            "(2, 3)\n"
          ]
        }
      ]
    },
    {
      "cell_type": "code",
      "source": [],
      "metadata": {
        "id": "TEIt1x0H71Du"
      },
      "execution_count": null,
      "outputs": []
    }
  ]
}